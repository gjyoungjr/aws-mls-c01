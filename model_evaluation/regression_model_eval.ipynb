{
 "cells": [
  {
   "cell_type": "markdown",
   "id": "03a8ea86",
   "metadata": {},
   "source": [
    "# Regression Model Evaluation "
   ]
  },
  {
   "cell_type": "markdown",
   "id": "05d4424d",
   "metadata": {},
   "source": [
    "Regression Models produces numeric outputs.\n",
    "\n",
    "i.e \n",
    "- What's the cost of the flight?\n",
    "- How much revenue can my business generate for the quarter? "
   ]
  },
  {
   "cell_type": "markdown",
   "id": "f565c541",
   "metadata": {},
   "source": [
    "To evaluate how good model predictions are we need to check predictions against previously unseen smaples that were not used for training. Usually, the dataset is split 30% for testing, 70% for training. "
   ]
  },
  {
   "cell_type": "markdown",
   "id": "275c1c79",
   "metadata": {},
   "source": [
    "Common techniques for model performance evaluation are: \n",
    "- Visually observing Plots \n",
    "- Residual Histograms \n",
    "- Evaluate metrics like RMSE (Root Mean Square Error)"
   ]
  },
  {
   "cell_type": "code",
   "execution_count": 2,
   "id": "a8ffe282",
   "metadata": {},
   "outputs": [
    {
     "name": "stdout",
     "output_type": "stream",
     "text": [
      "Requirement already satisfied: pandas in /opt/anaconda3/lib/python3.11/site-packages (2.1.4)\n",
      "Requirement already satisfied: numpy in /opt/anaconda3/lib/python3.11/site-packages (1.26.4)\n",
      "Requirement already satisfied: matplotlib in /opt/anaconda3/lib/python3.11/site-packages (3.8.0)\n",
      "Requirement already satisfied: scikit-learn in /opt/anaconda3/lib/python3.11/site-packages (1.2.2)\n",
      "Requirement already satisfied: python-dateutil>=2.8.2 in /opt/anaconda3/lib/python3.11/site-packages (from pandas) (2.8.2)\n",
      "Requirement already satisfied: pytz>=2020.1 in /opt/anaconda3/lib/python3.11/site-packages (from pandas) (2023.3.post1)\n",
      "Requirement already satisfied: tzdata>=2022.1 in /opt/anaconda3/lib/python3.11/site-packages (from pandas) (2023.3)\n",
      "Requirement already satisfied: contourpy>=1.0.1 in /opt/anaconda3/lib/python3.11/site-packages (from matplotlib) (1.2.0)\n",
      "Requirement already satisfied: cycler>=0.10 in /opt/anaconda3/lib/python3.11/site-packages (from matplotlib) (0.11.0)\n",
      "Requirement already satisfied: fonttools>=4.22.0 in /opt/anaconda3/lib/python3.11/site-packages (from matplotlib) (4.25.0)\n",
      "Requirement already satisfied: kiwisolver>=1.0.1 in /opt/anaconda3/lib/python3.11/site-packages (from matplotlib) (1.4.4)\n",
      "Requirement already satisfied: packaging>=20.0 in /opt/anaconda3/lib/python3.11/site-packages (from matplotlib) (23.1)\n",
      "Requirement already satisfied: pillow>=6.2.0 in /opt/anaconda3/lib/python3.11/site-packages (from matplotlib) (10.2.0)\n",
      "Requirement already satisfied: pyparsing>=2.3.1 in /opt/anaconda3/lib/python3.11/site-packages (from matplotlib) (3.0.9)\n",
      "Requirement already satisfied: scipy>=1.3.2 in /opt/anaconda3/lib/python3.11/site-packages (from scikit-learn) (1.11.4)\n",
      "Requirement already satisfied: joblib>=1.1.1 in /opt/anaconda3/lib/python3.11/site-packages (from scikit-learn) (1.2.0)\n",
      "Requirement already satisfied: threadpoolctl>=2.0.0 in /opt/anaconda3/lib/python3.11/site-packages (from scikit-learn) (2.2.0)\n",
      "Requirement already satisfied: six>=1.5 in /opt/anaconda3/lib/python3.11/site-packages (from python-dateutil>=2.8.2->pandas) (1.16.0)\n"
     ]
    }
   ],
   "source": [
    "!pip install pandas numpy matplotlib scikit-learn"
   ]
  },
  {
   "cell_type": "code",
   "execution_count": 3,
   "id": "b8b0296a",
   "metadata": {},
   "outputs": [],
   "source": [
    "import pandas as pd\n",
    "import numpy as np\n",
    "import matplotlib.pyplot as plt"
   ]
  },
  {
   "cell_type": "code",
   "execution_count": 4,
   "id": "2a4ad0b8",
   "metadata": {},
   "outputs": [],
   "source": [
    "from sklearn.metrics import mean_squared_error"
   ]
  },
  {
   "cell_type": "markdown",
   "id": "eefce6a7",
   "metadata": {},
   "source": [
    "## Air Passengers Data "
   ]
  },
  {
   "cell_type": "code",
   "execution_count": 8,
   "id": "72f62dd9",
   "metadata": {},
   "outputs": [],
   "source": [
    "models = ['Model 1','Model 2', 'Model 3', 'Model 4']\n",
    "df = pd.read_csv('../data/airpassengers_sample.csv', index_col=0)"
   ]
  },
  {
   "cell_type": "code",
   "execution_count": 9,
   "id": "92fb9a19",
   "metadata": {},
   "outputs": [
    {
     "data": {
      "text/html": [
       "<div>\n",
       "<style scoped>\n",
       "    .dataframe tbody tr th:only-of-type {\n",
       "        vertical-align: middle;\n",
       "    }\n",
       "\n",
       "    .dataframe tbody tr th {\n",
       "        vertical-align: top;\n",
       "    }\n",
       "\n",
       "    .dataframe thead th {\n",
       "        text-align: right;\n",
       "    }\n",
       "</style>\n",
       "<table border=\"1\" class=\"dataframe\">\n",
       "  <thead>\n",
       "    <tr style=\"text-align: right;\">\n",
       "      <th></th>\n",
       "      <th>GDP</th>\n",
       "      <th>Population</th>\n",
       "      <th>Passengers</th>\n",
       "      <th>Model1_Prediction</th>\n",
       "      <th>Model2_Prediction</th>\n",
       "      <th>Model3_Prediction</th>\n",
       "      <th>Model4_Prediction</th>\n",
       "    </tr>\n",
       "    <tr>\n",
       "      <th>Year</th>\n",
       "      <th></th>\n",
       "      <th></th>\n",
       "      <th></th>\n",
       "      <th></th>\n",
       "      <th></th>\n",
       "      <th></th>\n",
       "      <th></th>\n",
       "    </tr>\n",
       "  </thead>\n",
       "  <tbody>\n",
       "    <tr>\n",
       "      <th>2008</th>\n",
       "      <td>14.72</td>\n",
       "      <td>304.09</td>\n",
       "      <td>701.78</td>\n",
       "      <td>710</td>\n",
       "      <td>701</td>\n",
       "      <td>850</td>\n",
       "      <td>750</td>\n",
       "    </tr>\n",
       "    <tr>\n",
       "      <th>2009</th>\n",
       "      <td>14.42</td>\n",
       "      <td>306.77</td>\n",
       "      <td>679.42</td>\n",
       "      <td>650</td>\n",
       "      <td>670</td>\n",
       "      <td>450</td>\n",
       "      <td>750</td>\n",
       "    </tr>\n",
       "    <tr>\n",
       "      <th>2010</th>\n",
       "      <td>14.96</td>\n",
       "      <td>309.34</td>\n",
       "      <td>720.50</td>\n",
       "      <td>700</td>\n",
       "      <td>715</td>\n",
       "      <td>1000</td>\n",
       "      <td>750</td>\n",
       "    </tr>\n",
       "    <tr>\n",
       "      <th>2011</th>\n",
       "      <td>15.52</td>\n",
       "      <td>311.64</td>\n",
       "      <td>730.80</td>\n",
       "      <td>750</td>\n",
       "      <td>735</td>\n",
       "      <td>550</td>\n",
       "      <td>750</td>\n",
       "    </tr>\n",
       "    <tr>\n",
       "      <th>2012</th>\n",
       "      <td>16.16</td>\n",
       "      <td>313.99</td>\n",
       "      <td>736.70</td>\n",
       "      <td>769</td>\n",
       "      <td>740</td>\n",
       "      <td>700</td>\n",
       "      <td>750</td>\n",
       "    </tr>\n",
       "  </tbody>\n",
       "</table>\n",
       "</div>"
      ],
      "text/plain": [
       "        GDP  Population  Passengers  Model1_Prediction  Model2_Prediction  \\\n",
       "Year                                                                        \n",
       "2008  14.72      304.09      701.78                710                701   \n",
       "2009  14.42      306.77      679.42                650                670   \n",
       "2010  14.96      309.34      720.50                700                715   \n",
       "2011  15.52      311.64      730.80                750                735   \n",
       "2012  16.16      313.99      736.70                769                740   \n",
       "\n",
       "      Model3_Prediction  Model4_Prediction  \n",
       "Year                                        \n",
       "2008                850                750  \n",
       "2009                450                750  \n",
       "2010               1000                750  \n",
       "2011                550                750  \n",
       "2012                700                750  "
      ]
     },
     "execution_count": 9,
     "metadata": {},
     "output_type": "execute_result"
    }
   ],
   "source": [
    "df.head()"
   ]
  },
  {
   "cell_type": "markdown",
   "id": "b5badb55",
   "metadata": {},
   "source": [
    "## Plot Data "
   ]
  },
  {
   "cell_type": "code",
   "execution_count": 10,
   "id": "fe055a30",
   "metadata": {},
   "outputs": [
    {
     "data": {
      "text/plain": [
       "<matplotlib.legend.Legend at 0x16af816d0>"
      ]
     },
     "execution_count": 10,
     "metadata": {},
     "output_type": "execute_result"
    },
    {
     "data": {
      "image/png": "[encoded data removed]",
      "text/plain": [
       "<Figure size 1000x1000 with 1 Axes>"
      ]
     },
     "metadata": {},
     "output_type": "display_data"
    }
   ],
   "source": [
    "plt.figure(figsize=(10,10))\n",
    "\n",
    "# Plot Actuals vs Predictions for each model \n",
    "\n",
    "\n",
    "# Model 1 \n",
    "plt.subplot(221)\n",
    "plt.plot(df['Passengers'], label='Actual')\n",
    "plt.plot(df['Model1_Prediction'], label='Model_1')\n",
    "plt.xlabel('Year')\n",
    "plt.ylabel('Passengers (Millions)')\n",
    "plt.legend()"
   ]
  },
  {
   "cell_type": "code",
   "execution_count": null,
   "id": "41a95c20",
   "metadata": {},
   "outputs": [],
   "source": []
  }
 ],
 "metadata": {
  "kernelspec": {
   "display_name": "Python 3 (ipykernel)",
   "language": "python",
   "name": "python3"
  },
  "language_info": {
   "codemirror_mode": {
    "name": "ipython",
    "version": 3
   },
   "file_extension": ".py",
   "mimetype": "text/x-python",
   "name": "python",
   "nbconvert_exporter": "python",
   "pygments_lexer": "ipython3",
   "version": "3.11.7"
  }
 },
 "nbformat": 4,
 "nbformat_minor": 5
}
